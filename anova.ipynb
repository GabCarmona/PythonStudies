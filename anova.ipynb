{
 "cells": [
  {
   "cell_type": "code",
   "execution_count": 11,
   "metadata": {},
   "outputs": [],
   "source": [
    "import pandas as pd\n",
    "from scipy.stats import shapiro\n",
    "import statsmodels.api as sm\n",
    "from statsmodels.formula.api import ols\n",
    "df = pd.read_csv(r'/home/gabriel/Downloads/NovoDataset.csv', sep=',', encoding='UTF-8')"
   ]
  },
  {
   "cell_type": "code",
   "execution_count": 14,
   "metadata": {},
   "outputs": [],
   "source": [
    "df_filtered = df[df['categoria'].isin(['Entretenimento', 'Música', 'Pessoas e Blogs'])]"
   ]
  },
  {
   "cell_type": "code",
   "execution_count": 15,
   "metadata": {},
   "outputs": [
    {
     "name": "stdout",
     "output_type": "stream",
     "text": [
      "P-valor de Shapiro-Wilk para Entretenimento: 2.191492765324954e-19\n",
      "A distribuição de visualizações de vídeos para a categoria Entretenimento não é normal.\n",
      "P-valor de Shapiro-Wilk para Música: 4.169920072084371e-30\n",
      "A distribuição de visualizações de vídeos para a categoria Música não é normal.\n",
      "P-valor de Shapiro-Wilk para Pessoas e Blogs: 2.254355441650475e-18\n",
      "A distribuição de visualizações de vídeos para a categoria Pessoas e Blogs não é normal.\n"
     ]
    }
   ],
   "source": [
    "categorias = ['Entretenimento', 'Música', 'Pessoas e Blogs']\n",
    "\n",
    "for cat in categorias:\n",
    "    w, p_value = shapiro(df_filtered[df_filtered['categoria'] == cat]['visualizacoes_de_videos'])\n",
    "    print(f\"P-valor de Shapiro-Wilk para {cat}: {p_value}\")\n",
    "    \n",
    "    if p_value < 0.05:\n",
    "        print(f\"A distribuição de visualizações de vídeos para a categoria {cat} não é normal.\")\n",
    "    else:\n",
    "        print(f\"A distribuição de visualizações de vídeos para a categoria {cat} é normal.\")"
   ]
  },
  {
   "cell_type": "code",
   "execution_count": null,
   "metadata": {},
   "outputs": [],
   "source": []
  },
  {
   "cell_type": "code",
   "execution_count": 17,
   "metadata": {},
   "outputs": [],
   "source": [
    "from scipy.stats import levene"
   ]
  },
  {
   "cell_type": "code",
   "execution_count": 18,
   "metadata": {},
   "outputs": [
    {
     "name": "stdout",
     "output_type": "stream",
     "text": [
      "P-valor de Levene: 0.397292779436477\n",
      "As variâncias dos grupos são homogêneas.\n"
     ]
    }
   ],
   "source": [
    "w, p_value = levene(df_filtered[df_filtered['categoria'] == 'Entretenimento']['visualizacoes_de_videos'],\n",
    "                   df_filtered[df_filtered['categoria'] == 'Música']['visualizacoes_de_videos'],\n",
    "                   df_filtered[df_filtered['categoria'] == 'Pessoas e Blogs']['visualizacoes_de_videos'])\n",
    "print(f\"P-valor de Levene: {p_value}\")\n",
    "\n",
    "if p_value < 0.05:\n",
    "    print(\"As variâncias dos grupos não são homogêneas.\")\n",
    "else:\n",
    "    print(\"As variâncias dos grupos são homogêneas.\")"
   ]
  },
  {
   "cell_type": "code",
   "execution_count": 19,
   "metadata": {},
   "outputs": [
    {
     "name": "stdout",
     "output_type": "stream",
     "text": [
      "Médias por categoria:\n",
      "categoria\n",
      "Entretenimento     1.063732e+10\n",
      "Música             1.312699e+11\n",
      "Pessoas e Blogs    9.790315e+09\n",
      "Name: visualizacoes_de_videos, dtype: float64\n",
      "\n",
      "Variancias por categoria:\n",
      "categoria\n",
      "Entretenimento     1.068137e+20\n",
      "Música             2.662567e+24\n",
      "Pessoas e Blogs    1.610950e+20\n",
      "Name: visualizacoes_de_videos, dtype: float64\n",
      "\n",
      "Média geral: 53134195266.35209\n"
     ]
    }
   ],
   "source": [
    "medias = df_filtered.groupby('categoria')['visualizacoes_de_videos'].mean()\n",
    "variancias = df_filtered.groupby('categoria')['visualizacoes_de_videos'].var()\n",
    "\n",
    "print(\"Médias por categoria:\")\n",
    "print(medias)\n",
    "print(\"\\nVariancias por categoria:\")\n",
    "print(variancias)\n",
    "\n",
    "# Calculando a média geral\n",
    "media_geral = df_filtered['visualizacoes_de_videos'].mean()\n",
    "print(\"\\nMédia geral:\", media_geral)"
   ]
  },
  {
   "cell_type": "code",
   "execution_count": 23,
   "metadata": {},
   "outputs": [
    {
     "name": "stdout",
     "output_type": "stream",
     "text": [
      "\n",
      "Soma de quadrados entre tratamentos: 1.8426751887365524e+24\n",
      "\n",
      "Soma de quadrados erro: 5.165825678484111e+26\n",
      "\n",
      "Graus de liberdade entre tratamentos: 2\n",
      "\n",
      "Graus de liberdade erro: 548\n",
      "\n",
      "Quadrado médio entre tratamentos: 9.213375943682762e+23\n",
      "\n",
      "Quadrado médio erro: 9.426689194314071e+23\n"
     ]
    }
   ],
   "source": [
    "# Calculando a soma de quadrados entre tratamentos\n",
    "sqt = 0\n",
    "for cat in categorias:\n",
    "    sqt += len(df_filtered[df_filtered['categoria'] == cat]) * (medias[cat] - media_geral)**2\n",
    "print(\"\\nSoma de quadrados entre tratamentos:\", sqt)\n",
    "\n",
    "# Calculando a soma de quadrados erro (intra tratamentos)\n",
    "sqr = 0\n",
    "for cat in categorias:\n",
    "    sqr += (len(df_filtered[df_filtered['categoria'] == cat]) - 1) * variancias[cat]\n",
    "print(\"\\nSoma de quadrados erro:\", sqr)\n",
    "\n",
    "# Calculando Graus de liberdade entre tratamentos\n",
    "glt = len(categorias) - 1\n",
    "print(\"\\nGraus de liberdade entre tratamentos:\", glt)\n",
    "\n",
    "# Calculando Graus de liberdade erro\n",
    "glr = len(df_filtered) - len(categorias)\n",
    "print(\"\\nGraus de liberdade erro:\", glr)\n",
    "\n",
    "# Calculando Quadrado médio entre tratamentos\n",
    "qmt = sqt / glt\n",
    "print(\"\\nQuadrado médio entre tratamentos:\", qmt)\n",
    "\n",
    "# Calculando Quadrado médio erro\n",
    "qmr = sqr / glr\n",
    "print(\"\\nQuadrado médio erro:\", qmr)\n",
    "\n"
   ]
  },
  {
   "cell_type": "code",
   "execution_count": 28,
   "metadata": {},
   "outputs": [
    {
     "name": "stdout",
     "output_type": "stream",
     "text": [
      "\n",
      "Razão F: 0.9773713499793784\n",
      "F tabelado para 2 e 548 graus de liberdade: 2,77%\n",
      "OBS: se o valor observado da estatística F for maior que 2,77%, rejeitaremos a hipótese nula de que as duas variâncias são iguais.\n"
     ]
    }
   ],
   "source": [
    "# Calculando razão F\n",
    "f = qmt / qmr\n",
    "print(\"\\nRazão F:\", f)\n",
    "\n",
    "print('F tabelado para 2 e 548 graus de liberdade: 2,77%')\n",
    "\n",
    "print('OBS: se o valor observado da estatística F for maior que 2,77%, rejeitaremos a hipótese nula de que as duas variâncias são iguais.')"
   ]
  }
 ],
 "metadata": {
  "kernelspec": {
   "display_name": "Python 3",
   "language": "python",
   "name": "python3"
  },
  "language_info": {
   "codemirror_mode": {
    "name": "ipython",
    "version": 3
   },
   "file_extension": ".py",
   "mimetype": "text/x-python",
   "name": "python",
   "nbconvert_exporter": "python",
   "pygments_lexer": "ipython3",
   "version": "3.10.6"
  },
  "orig_nbformat": 4
 },
 "nbformat": 4,
 "nbformat_minor": 2
}
